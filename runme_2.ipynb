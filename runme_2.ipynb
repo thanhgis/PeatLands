{
  "nbformat": 4,
  "nbformat_minor": 0,
  "metadata": {
    "colab": {
      "name": "check_FAO_peatland.ipynb",
      "provenance": [],
      "collapsed_sections": []
    },
    "kernelspec": {
      "name": "python3",
      "display_name": "Python 3"
    }
  },
  "cells": [
    {
      "cell_type": "code",
      "metadata": {
        "id": "krsLgVBYZw_A"
      },
      "source": [
        "#@title Codes for JAFTA internally. { display-mode: \"form\" }\n"
      ],
      "execution_count": null,
      "outputs": []
    },
    {
      "cell_type": "markdown",
      "metadata": {
        "id": "aV1xZ1CPi3Nw"
      },
      "source": [
        "<table class=\"ee-notebook-buttons\" align=\"left\"><td>\n",
        "<a target=\"_blank\"  href=\"https://colab.research.google.com/github/thanhgis/PeatLands/blob/main/runme.ipynb\">\n",
        "    <img src=\"https://www.tensorflow.org/images/colab_logo_32px.png\" /> Run in Google Colab</a>\n",
        "</td><td>\n",
        "<a target=\"_blank\"  href=\"https://github.com/thanhgis/PeatLands/main/runme.ipynb\"><img width=32px src=\"https://www.tensorflow.org/images/GitHub-Mark-32px.png\" /> View source on GitHub</a></td></table>"
      ]
    },
    {
      "cell_type": "markdown",
      "metadata": {
        "id": "SNh-QBc36Mvk"
      },
      "source": [
        "### Step 1: Import the API\r\n",
        "You can run this step one time only if you are working on the same session. \r\n",
        "\r\n",
        "Please click on the hyperlink in below codeshell, then follow-up the guidance in the newly-opened tab to authenticate, then copy (click on 'Copy' button) the code and come back to this part to paste into the blank area and press 'Enter' keyboard to continue."
      ]
    },
    {
      "cell_type": "code",
      "metadata": {
        "id": "65RChERMzQHZ"
      },
      "source": [
        "import ee\r\n",
        "# Trigger the authentication flow.\r\n",
        "ee.Authenticate()\r\n",
        "\r\n",
        "# Initialize the library.\r\n",
        "ee.Initialize()"
      ],
      "execution_count": null,
      "outputs": []
    },
    {
      "cell_type": "markdown",
      "metadata": {
        "id": "8I_Fr0L5AFmu"
      },
      "source": [
        "### Step 2: Import the algorithms and library\n",
        "\n",
        "Please run below step in order to import the algorithms and liberary into this Colab working space. If you do not change the codes in GitHub, just run this one time. However, if you made some changes in GitHub, please reload Runtime (Click 'Runtime' menu above, then select 'Restart runtime') then run this step again."
      ]
    },
    {
      "cell_type": "code",
      "metadata": {
        "id": "tSpVsfGqCJS4"
      },
      "source": [
        "import requests \r\n",
        "derive = 'https://raw.githubusercontent.com/thanhgis/PeatLands/main/pysmm/derive_SM.py'\r\n",
        "wrapper = 'https://raw.githubusercontent.com/thanhgis/PeatLands/main/pysmm/GEE_wrappers.py'\r\n",
        "decisiontree = 'https://raw.githubusercontent.com/thanhgis/PeatLands/main/pysmm/no_GLDAS_decisiontree_GEE__1step.py'\r\n",
        "\r\n",
        "r1 = requests.get(derive)\r\n",
        "r2 = requests.get(wrapper)\r\n",
        "r3 = requests.get(decisiontree)\r\n",
        "\r\n",
        "with open ('derive_SM.py', 'w') as f: \r\n",
        "  f.write(r1.text)\r\n",
        "with open ('GEE_wrappers.py', 'w') as f: \r\n",
        "  f.write(r2.text)\r\n",
        "with open ('no_GLDAS_decisiontree_GEE__1step.py', 'w') as f: \r\n",
        "  f.write(r3.text)\r\n",
        "\r\n",
        "import GEE_wrappers as wrappers\r\n",
        "import derive_SM as derive\r\n",
        "import no_GLDAS_decisiontree_GEE__1step as decisiontree\r\n",
        "\r\n",
        "%reload_ext autoreload\r\n",
        "%autoreload 2"
      ],
      "execution_count": 9,
      "outputs": []
    },
    {
      "cell_type": "markdown",
      "metadata": {
        "id": "R5ubFqYyA6Gz"
      },
      "source": [
        "### Step 3: Select area of interest and time of interest.\r\n",
        "\r\n",
        "Please make some changes in this part if you want, then run it."
      ]
    },
    {
      "cell_type": "code",
      "metadata": {
        "id": "-pmAKEt7Hfbn"
      },
      "source": [
        "#Set Area of Interest:  \r\n",
        "min_lon = 102.8895\r\n",
        "min_lat = -0.1407\r\n",
        "max_lon = 103.3895\r\n",
        "max_lat = 0.4407\r\n",
        "\r\n",
        "# Set time of Interest:\r\n",
        "yyyy = 2020\r\n",
        "mm = 3\r\n",
        "dd = 1"
      ],
      "execution_count": 10,
      "outputs": []
    },
    {
      "cell_type": "code",
      "metadata": {
        "id": "EvAm5XbWEww6",
        "outputId": "e489fcac-68ad-4995-cb27-3000551cb99f",
        "colab": {
          "base_uri": "https://localhost:8080/"
        }
      },
      "source": [
        "from GEE_wrappers import GEE_extent\r\n",
        "\r\n",
        "GEE_interface = GEE_extent(min_lon, min_lat, max_lon, max_lat, workdir=None, sampling=None)\r\n",
        "GEE_interface.check_layer()"
      ],
      "execution_count": 14,
      "outputs": [
        {
          "output_type": "stream",
          "text": [
            "Selected AOI centroid and user Asset:  0.15000014070696993 103.1395000000007\n",
            "Selected User asset Id:  users/thanhgeevn/\n"
          ],
          "name": "stdout"
        }
      ]
    },
    {
      "cell_type": "markdown",
      "metadata": {
        "id": "kX_qtMacBN2_"
      },
      "source": [
        "### Step 4: Run the scripts and show outputs:\r\n",
        "\r\n",
        "Please run this final step to show the outputs. Remember that the images also exported into your GEE's Asset."
      ]
    },
    {
      "cell_type": "code",
      "metadata": {
        "id": "obvDJNvzA2Ml"
      },
      "source": [
        "from derive_SM import get_map\r\n",
        "asset_ID = ee.data.getAssetRoots()[0]['id'].replace('projects/earthengine-legacy/assets/', '')+ '/'\r\n",
        "get_map(min_lon, min_lat, max_lon, max_lat,\r\n",
        "        asset_ID,\r\n",
        "        sampling=30,\r\n",
        "        year=yyyy, month=mm, day=dd,\r\n",
        "        tracknr=None,\r\n",
        "        overwrite=False,\r\n",
        "        start=None,\r\n",
        "        stop=None)  \r\n"
      ],
      "execution_count": null,
      "outputs": []
    }
  ]
}