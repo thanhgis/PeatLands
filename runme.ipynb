{
  "nbformat": 4,
  "nbformat_minor": 0,
  "metadata": {
    "colab": {
      "name": "check_FAO_peatland.ipynb",
      "provenance": [],
      "collapsed_sections": []
    },
    "kernelspec": {
      "name": "python3",
      "display_name": "Python 3"
    }
  },
  "cells": [
    {
      "cell_type": "code",
      "metadata": {
        "id": "krsLgVBYZw_A"
      },
      "source": [
        "#@title Codes for JAFTA internally. { display-mode: \"form\" }\n"
      ],
      "execution_count": null,
      "outputs": []
    },
    {
      "cell_type": "markdown",
      "metadata": {
        "id": "aV1xZ1CPi3Nw"
      },
      "source": [
        "<table class=\"ee-notebook-buttons\" align=\"left\"><td>\n",
        "<a target=\"_blank\"  href=\"https://colab.research.google.com/github/thanhgis/PeatLands/blob/main/runme.ipynb\">\n",
        "    <img src=\"https://www.tensorflow.org/images/colab_logo_32px.png\" /> Run in Google Colab</a>\n",
        "</td><td>\n",
        "<a target=\"_blank\"  href=\"https://github.com/thanhgis/PeatLands/main/runme.ipynb\"><img width=32px src=\"https://www.tensorflow.org/images/GitHub-Mark-32px.png\" /> View source on GitHub</a></td></table>"
      ]
    },
    {
      "cell_type": "markdown",
      "metadata": {
        "id": "SNh-QBc36Mvk"
      },
      "source": [
        "### Step 1: Import the API\r\n",
        "You can run this step one time only if you are working on the same session. \r\n",
        "\r\n",
        "Please click on the hyperlink in below codeshell, then follow-up the guidance in the newly-opened tab to authenticate, then copy (click on 'Copy' button) the code and come back to this part to paste into the blank area and press 'Enter' keyboard to continue."
      ]
    },
    {
      "cell_type": "code",
      "metadata": {
        "id": "65RChERMzQHZ"
      },
      "source": [
        "import ee\r\n",
        "# Trigger the authentication flow.\r\n",
        "ee.Authenticate()\r\n",
        "\r\n",
        "# Initialize the library.\r\n",
        "ee.Initialize()"
      ],
      "execution_count": null,
      "outputs": []
    },
    {
      "cell_type": "markdown",
      "metadata": {
        "id": "8I_Fr0L5AFmu"
      },
      "source": [
        "### Step 2: Import the algorithms and library\n",
        "\n",
        "Please run below step in order to import the algorithms and liberary into this Colab working space. If you do not change the codes in GitHub, just run this one time. However, if you made some changes in GitHub, please reload Runtime (Click 'Runtime' menu above, then select 'Restart runtime') then run this step again."
      ]
    },
    {
      "cell_type": "code",
      "metadata": {
        "id": "tSpVsfGqCJS4"
      },
      "source": [
        "import requests \r\n",
        "derive = 'https://raw.githubusercontent.com/thanhgis/PeatLands/main/pysmm/derive_SM.py'\r\n",
        "wrapper = 'https://raw.githubusercontent.com/thanhgis/PeatLands/main/pysmm/GEE_wrappers.py'\r\n",
        "decisiontree = 'https://raw.githubusercontent.com/thanhgis/PeatLands/main/pysmm/no_GLDAS_decisiontree_GEE__1step.py'\r\n",
        "\r\n",
        "r1 = requests.get(derive)\r\n",
        "r2 = requests.get(wrapper)\r\n",
        "r3 = requests.get(decisiontree)\r\n",
        "\r\n",
        "with open ('derive_SM.py', 'w') as f: \r\n",
        "  f.write(r1.text)\r\n",
        "with open ('GEE_wrappers.py', 'w') as f: \r\n",
        "  f.write(r2.text)\r\n",
        "with open ('no_GLDAS_decisiontree_GEE__1step.py', 'w') as f: \r\n",
        "  f.write(r3.text)\r\n",
        "\r\n",
        "import GEE_wrappers as wrappers\r\n",
        "import derive_SM as derive\r\n",
        "import no_GLDAS_decisiontree_GEE__1step as decisiontree\r\n",
        "\r\n",
        "%reload_ext autoreload\r\n",
        "%autoreload 2"
      ],
      "execution_count": 13,
      "outputs": []
    },
    {
      "cell_type": "markdown",
      "metadata": {
        "id": "R5ubFqYyA6Gz"
      },
      "source": [
        "### Step 3: Select area of interest and time of interest.\r\n",
        "\r\n",
        "Please make some changes in this part if you want, then run it."
      ]
    },
    {
      "cell_type": "code",
      "metadata": {
        "id": "-pmAKEt7Hfbn"
      },
      "source": [
        "#Set Area of Interest:  \r\n",
        "min_lon = 102.8895\r\n",
        "min_lat = -0.1407\r\n",
        "max_lon = 103.3895\r\n",
        "max_lat = 0.4407\r\n",
        "\r\n",
        "# Set time of Interest:\r\n",
        "yyyy = 2020\r\n",
        "mm = 3\r\n",
        "dd = 1"
      ],
      "execution_count": 8,
      "outputs": []
    },
    {
      "cell_type": "markdown",
      "metadata": {
        "id": "kX_qtMacBN2_"
      },
      "source": [
        "### Step 4: Run the processing:\r\n",
        "\r\n",
        "Please run this step to process data. This step will also send the outputs to your GEE Asset. If you run the same AOI and date, this step will be ignored."
      ]
    },
    {
      "cell_type": "code",
      "metadata": {
        "id": "obvDJNvzA2Ml"
      },
      "source": [
        "from derive_SM import get_map\r\n",
        "asset_ID = ee.data.getAssetRoots()[0]['id'].replace('projects/earthengine-legacy/assets/', '')+ '/'\r\n",
        "get_map(min_lon, min_lat, max_lon, max_lat,\r\n",
        "        asset_ID,\r\n",
        "        sampling=30,\r\n",
        "        year=yyyy, month=mm, day=dd,\r\n",
        "        tracknr=None,\r\n",
        "        overwrite=False,\r\n",
        "        start=None,\r\n",
        "        stop=None)  \r\n"
      ],
      "execution_count": null,
      "outputs": []
    },
    {
      "cell_type": "markdown",
      "metadata": {
        "id": "MLEWjbNOl0IA"
      },
      "source": [
        "### Step 5: Show outputs on the map\r\n",
        "\r\n",
        "Please run this step to show the outputs on a map."
      ]
    },
    {
      "cell_type": "code",
      "metadata": {
        "id": "aGvXB-jbch2r"
      },
      "source": [
        "from GEE_wrappers import GEE_extent\r\n",
        "import folium \r\n",
        "roi = ee.Geometry.Polygon([[min_lon, min_lat], [min_lon, max_lat], [max_lon, max_lat], [max_lon, min_lat], [min_lon, min_lat]])\r\n",
        "# ThanhGIS added:\r\n",
        "centroid =roi.centroid().coordinates()\r\n",
        "pointinfo = centroid.getInfo() \r\n",
        "centerlat = pointinfo[0]\r\n",
        "centerlon = pointinfo[1]\r\n",
        "\r\n",
        "GEE_interface = GEE_extent(min_lon, min_lat, max_lon, max_lat, workdir=None, sampling=None)\r\n",
        "l8_mean = ee.Image(GEE_interface.check_layer()[0])\r\n",
        "s1_mean = GEE_interface.check_layer()[1]\r\n",
        "evi_mean = GEE_interface.check_layer()[2]\r\n",
        "print (l8_mean.get('system:id').getInfo())\r\n",
        "\r\n",
        "#Add EE drawing method to folium.\r\n",
        "def add_ee_layer(self, ee_image_object, vis_params, name):\r\n",
        "  map_id_dict = ee.Image(ee_image_object).getMapId(vis_params)\r\n",
        "  folium.raster_layers.TileLayer(\r\n",
        "    tiles = map_id_dict['tile_fetcher'].url_format,\r\n",
        "    attr = 'Map Data &copy; <a href=\"https://earthengine.google.com/\">Google Earth Engine</a>',\r\n",
        "    name = name,\r\n",
        "    overlay = True,\r\n",
        "    control = True).add_to(self)\r\n",
        "vis_evi = {'min': -650,'max': 5000}\r\n",
        "vis_l8 = {'min': 200, 'max': 4000}\r\n",
        "vis_s1 = {'palette': 'red'}\r\n",
        "folium.Map.add_ee_layer = add_ee_layer\r\n",
        "my_map = folium.Map(location=[centerlon, centerlat], zoom_start=10)\r\n",
        "my_map.add_ee_layer(evi_mean, vis_evi, 'EVI_MODIS_Mean')\r\n",
        "my_map.add_ee_layer(l8_mean, vis_l8, 'L8_Mean')\r\n",
        "my_map.add_ee_layer(s1_mean, vis_s1, 'Detected')\r\n",
        "# Add a layer control panel to the map.\r\n",
        "my_map.add_child(folium.LayerControl())\r\n",
        "# Display the map.\r\n",
        "display(my_map)"
      ],
      "execution_count": null,
      "outputs": []
    }
  ]
}