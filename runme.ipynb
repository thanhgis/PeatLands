{
  "nbformat": 4,
  "nbformat_minor": 0,
  "metadata": {
    "colab": {
      "name": "check_FAO_peatland.ipynb",
      "provenance": [],
      "collapsed_sections": []
    },
    "kernelspec": {
      "name": "python3",
      "display_name": "Python 3"
    }
  },
  "cells": [
    {
      "cell_type": "code",
      "metadata": {
        "id": "krsLgVBYZw_A"
      },
      "source": [
        "#@title Codes for JAFTA internally. { display-mode: \"form\" }\n"
      ],
      "execution_count": null,
      "outputs": []
    },
    {
      "cell_type": "markdown",
      "metadata": {
        "id": "aV1xZ1CPi3Nw"
      },
      "source": [
        "<table class=\"ee-notebook-buttons\" align=\"left\"><td>\n",
        "<a target=\"_blank\"  href=\"https://colab.research.google.com/github/thanhgis/PeatLands/blob/main/runme.ipynb\">\n",
        "    <img src=\"https://www.tensorflow.org/images/colab_logo_32px.png\" /> Run in Google Colab</a>\n",
        "</td><td>\n",
        "<a target=\"_blank\"  href=\"https://github.com/thanhgis/PeatLands/main/runme.ipynb\"><img width=32px src=\"https://www.tensorflow.org/images/GitHub-Mark-32px.png\" /> View source on GitHub</a></td></table>"
      ]
    },
    {
      "cell_type": "markdown",
      "metadata": {
        "id": "SNh-QBc36Mvk"
      },
      "source": [
        "### Step 1: Import the API\r\n",
        "You can run this step one time only if you are working on the same session. \r\n",
        "\r\n",
        "Please click on the hyperlink in below codeshell, then follow-up the guidance in the newly-opened tab to authenticate, then copy (click on 'Copy' button) the code and come back to this part to paste into the blank area and press 'Enter' keyboard to continue."
      ]
    },
    {
      "cell_type": "code",
      "metadata": {
        "id": "65RChERMzQHZ",
        "colab": {
          "base_uri": "https://localhost:8080/"
        },
        "outputId": "b000e40c-df99-4275-ee2a-ba69fcb91d49"
      },
      "source": [
        "import ee\r\n",
        "# Trigger the authentication flow.\r\n",
        "ee.Authenticate()\r\n",
        "\r\n",
        "# Initialize the library.\r\n",
        "ee.Initialize()"
      ],
      "execution_count": 6,
      "outputs": [
        {
          "output_type": "stream",
          "text": [
            "To authorize access needed by Earth Engine, open the following URL in a web browser and follow the instructions. If the web browser does not start automatically, please manually browse the URL below.\n",
            "\n",
            "    https://accounts.google.com/o/oauth2/auth?client_id=517222506229-vsmmajv00ul0bs7p89v5m89qs8eb9359.apps.googleusercontent.com&scope=https%3A%2F%2Fwww.googleapis.com%2Fauth%2Fearthengine+https%3A%2F%2Fwww.googleapis.com%2Fauth%2Fdevstorage.full_control&redirect_uri=urn%3Aietf%3Awg%3Aoauth%3A2.0%3Aoob&response_type=code&code_challenge=UvilEFV_IyVreVhyylrnByoE3uBruck_NE7_uPsHAKg&code_challenge_method=S256\n",
            "\n",
            "The authorization workflow will generate a code, which you should paste in the box below. \n",
            "Enter verification code: 4/1AY0e-g7kchOUeEvtKVAEgMt0vN6NnX_Ao4B1W-YZtGh4Oe3hHzIsWPxSeW8\n",
            "\n",
            "Successfully saved authorization token.\n"
          ],
          "name": "stdout"
        }
      ]
    },
    {
      "cell_type": "markdown",
      "metadata": {
        "id": "8I_Fr0L5AFmu"
      },
      "source": [
        "### Step 2: Import the algorithms and library\n",
        "\n",
        "Please run below step in order to import the algorithms and liberary into this Colab working space. If you do not change the codes in GitHub, just run this one time. However, if you made some changes in GitHub, please reload Runtime (Click 'Runtime' menu above, then select 'Restart runtime') then run this step again."
      ]
    },
    {
      "cell_type": "code",
      "metadata": {
        "id": "tSpVsfGqCJS4"
      },
      "source": [
        "import requests \r\n",
        "derive = 'https://raw.githubusercontent.com/thanhgis/PeatLands/main/pysmm/derive_SM.py'\r\n",
        "wrapper = 'https://raw.githubusercontent.com/thanhgis/PeatLands/main/pysmm/GEE_wrappers.py'\r\n",
        "decisiontree = 'https://raw.githubusercontent.com/thanhgis/PeatLands/main/pysmm/no_GLDAS_decisiontree_GEE__1step.py'\r\n",
        "\r\n",
        "r1 = requests.get(derive)\r\n",
        "r2 = requests.get(wrapper)\r\n",
        "r3 = requests.get(decisiontree)\r\n",
        "\r\n",
        "with open ('derive_SM.py', 'w') as f: \r\n",
        "  f.write(r1.text)\r\n",
        "with open ('GEE_wrappers.py', 'w') as f: \r\n",
        "  f.write(r2.text)\r\n",
        "with open ('no_GLDAS_decisiontree_GEE__1step.py', 'w') as f: \r\n",
        "  f.write(r3.text)\r\n",
        "\r\n",
        "import GEE_wrappers as wrappers\r\n",
        "import derive_SM as derive\r\n",
        "import no_GLDAS_decisiontree_GEE__1step as decisiontree\r\n",
        "\r\n",
        "%reload_ext autoreload\r\n",
        "%autoreload 2"
      ],
      "execution_count": 13,
      "outputs": []
    },
    {
      "cell_type": "markdown",
      "metadata": {
        "id": "R5ubFqYyA6Gz"
      },
      "source": [
        "### Step 3: Select area of interest and time of interest.\r\n",
        "\r\n",
        "Please make some changes in this part if you want, then run it."
      ]
    },
    {
      "cell_type": "code",
      "metadata": {
        "id": "-pmAKEt7Hfbn"
      },
      "source": [
        "#Set Area of Interest:  \r\n",
        "min_lon = 102.8895\r\n",
        "min_lat = -0.1407\r\n",
        "max_lon = 103.3895\r\n",
        "max_lat = 0.4407\r\n",
        "\r\n",
        "# Set time of Interest:\r\n",
        "yyyy = 2020\r\n",
        "mm = 3\r\n",
        "dd = 1"
      ],
      "execution_count": 8,
      "outputs": []
    },
    {
      "cell_type": "markdown",
      "metadata": {
        "id": "kX_qtMacBN2_"
      },
      "source": [
        "### Step 4: Run the processing:\r\n",
        "\r\n",
        "Please run this step to process data. This step will also send the outputs to your GEE Asset. If you run the same AOI and date, this step will be ignored."
      ]
    },
    {
      "cell_type": "code",
      "metadata": {
        "id": "obvDJNvzA2Ml"
      },
      "source": [
        "from derive_SM import get_map\r\n",
        "asset_ID = ee.data.getAssetRoots()[0]['id'].replace('projects/earthengine-legacy/assets/', '')+ '/'\r\n",
        "get_map(min_lon, min_lat, max_lon, max_lat,\r\n",
        "        asset_ID,\r\n",
        "        sampling=30,\r\n",
        "        year=yyyy, month=mm, day=dd,\r\n",
        "        tracknr=None,\r\n",
        "        overwrite=False,\r\n",
        "        start=None,\r\n",
        "        stop=None)  \r\n"
      ],
      "execution_count": null,
      "outputs": []
    },
    {
      "cell_type": "markdown",
      "metadata": {
        "id": "MLEWjbNOl0IA"
      },
      "source": [
        "### Step 5: Show outputs on the map\r\n",
        "\r\n",
        "Please run this step to show the outputs on a map."
      ]
    },
    {
      "cell_type": "code",
      "metadata": {
        "id": "aGvXB-jbch2r",
        "outputId": "7afa37da-142b-447a-d745-65b154a9bd46",
        "colab": {
          "base_uri": "https://localhost:8080/",
          "height": 991
        }
      },
      "source": [
        "from GEE_wrappers import GEE_extent\r\n",
        "import folium \r\n",
        "roi = ee.Geometry.Polygon([[min_lon, min_lat], [min_lon, max_lat], [max_lon, max_lat], [max_lon, min_lat], [min_lon, min_lat]])\r\n",
        "# ThanhGIS added:\r\n",
        "centroid =roi.centroid().coordinates()\r\n",
        "pointinfo = centroid.getInfo() \r\n",
        "centerlat = pointinfo[0]\r\n",
        "centerlon = pointinfo[1]\r\n",
        "\r\n",
        "GEE_interface = GEE_extent(min_lon, min_lat, max_lon, max_lat, workdir=None, sampling=None)\r\n",
        "l8_mean = ee.Image(GEE_interface.check_layer()[0])\r\n",
        "s1_mean = GEE_interface.check_layer()[1]\r\n",
        "evi_mean = GEE_interface.check_layer()[2]\r\n",
        "print (l8_mean.get('system:id').getInfo())\r\n",
        "\r\n",
        "#Add EE drawing method to folium.\r\n",
        "def add_ee_layer(self, ee_image_object, vis_params, name):\r\n",
        "  map_id_dict = ee.Image(ee_image_object).getMapId(vis_params)\r\n",
        "  folium.raster_layers.TileLayer(\r\n",
        "    tiles = map_id_dict['tile_fetcher'].url_format,\r\n",
        "    attr = 'Map Data &copy; <a href=\"https://earthengine.google.com/\">Google Earth Engine</a>',\r\n",
        "    name = name,\r\n",
        "    overlay = True,\r\n",
        "    control = True).add_to(self)\r\n",
        "vis_evi = {'min': -650,'max': 5000}\r\n",
        "vis_l8 = {'min': 200, 'max': 4000}\r\n",
        "vis_s1 = {'palette': 'red'}\r\n",
        "folium.Map.add_ee_layer = add_ee_layer\r\n",
        "my_map = folium.Map(location=[centerlon, centerlat], zoom_start=10)\r\n",
        "my_map.add_ee_layer(evi_mean, vis_evi, 'EVI_MODIS_Mean')\r\n",
        "my_map.add_ee_layer(l8_mean, vis_l8, 'L8_Mean')\r\n",
        "my_map.add_ee_layer(s1_mean, vis_s1, 'Detected')\r\n",
        "# Add a layer control panel to the map.\r\n",
        "my_map.add_child(folium.LayerControl())\r\n",
        "# Display the map.\r\n",
        "display(my_map)"
      ],
      "execution_count": 22,
      "outputs": [
        {
          "output_type": "stream",
          "text": [
            "Selected AOI centroid and user Asset:  0.15000014070696993 103.1395000000007\n",
            "Selected User asset Id:  users/thanhgeevn/\n",
            "Layer ID:  users/thanhgeevn/l8med_1028895_01407_1033895_04407_30_2020 users/thanhgeevn/s1med_1028895_01407_1033895_04407_30_171_2020 users/thanhgeevn/evimed_1028895_01407_1033895_04407_30_2020\n",
            "Layer ID:  users/thanhgeevn/l8med_1028895_01407_1033895_04407_30_2020 users/thanhgeevn/s1med_1028895_01407_1033895_04407_30_171_2020 users/thanhgeevn/evimed_1028895_01407_1033895_04407_30_2020\n",
            "Layer ID:  users/thanhgeevn/l8med_1028895_01407_1033895_04407_30_2020 users/thanhgeevn/s1med_1028895_01407_1033895_04407_30_171_2020 users/thanhgeevn/evimed_1028895_01407_1033895_04407_30_2020\n",
            "users/thanhgeevn/l8med_1028895_01407_1033895_04407_30_2020\n"
          ],
          "name": "stdout"
        },
        {
          "output_type": "display_data",
          "data": {
            "text/html": [
              "<div style=\"width:100%;\"><div style=\"position:relative;width:100%;height:0;padding-bottom:60%;\"><span style=\"color:#565656\">Make this Notebook Trusted to load map: File -> Trust Notebook</span><iframe src=\"about:blank\" style=\"position:absolute;width:100%;height:100%;left:0;top:0;border:none !important;\" data-html=%3C%21DOCTYPE%20html%3E%0A%3Chead%3E%20%20%20%20%0A%20%20%20%20%3Cmeta%20http-equiv%3D%22content-type%22%20content%3D%22text/html%3B%20charset%3DUTF-8%22%20/%3E%0A%20%20%20%20%3Cscript%3EL_PREFER_CANVAS%3Dfalse%3B%20L_NO_TOUCH%3Dfalse%3B%20L_DISABLE_3D%3Dfalse%3B%3C/script%3E%0A%20%20%20%20%3Cscript%20src%3D%22https%3A//cdn.jsdelivr.net/npm/leaflet%401.4.0/dist/leaflet.js%22%3E%3C/script%3E%0A%20%20%20%20%3Cscript%20src%3D%22https%3A//code.jquery.com/jquery-1.12.4.min.js%22%3E%3C/script%3E%0A%20%20%20%20%3Cscript%20src%3D%22https%3A//maxcdn.bootstrapcdn.com/bootstrap/3.2.0/js/bootstrap.min.js%22%3E%3C/script%3E%0A%20%20%20%20%3Cscript%20src%3D%22https%3A//cdnjs.cloudflare.com/ajax/libs/Leaflet.awesome-markers/2.0.2/leaflet.awesome-markers.js%22%3E%3C/script%3E%0A%20%20%20%20%3Clink%20rel%3D%22stylesheet%22%20href%3D%22https%3A//cdn.jsdelivr.net/npm/leaflet%401.4.0/dist/leaflet.css%22/%3E%0A%20%20%20%20%3Clink%20rel%3D%22stylesheet%22%20href%3D%22https%3A//maxcdn.bootstrapcdn.com/bootstrap/3.2.0/css/bootstrap.min.css%22/%3E%0A%20%20%20%20%3Clink%20rel%3D%22stylesheet%22%20href%3D%22https%3A//maxcdn.bootstrapcdn.com/bootstrap/3.2.0/css/bootstrap-theme.min.css%22/%3E%0A%20%20%20%20%3Clink%20rel%3D%22stylesheet%22%20href%3D%22https%3A//maxcdn.bootstrapcdn.com/font-awesome/4.6.3/css/font-awesome.min.css%22/%3E%0A%20%20%20%20%3Clink%20rel%3D%22stylesheet%22%20href%3D%22https%3A//cdnjs.cloudflare.com/ajax/libs/Leaflet.awesome-markers/2.0.2/leaflet.awesome-markers.css%22/%3E%0A%20%20%20%20%3Clink%20rel%3D%22stylesheet%22%20href%3D%22https%3A//rawcdn.githack.com/python-visualization/folium/master/folium/templates/leaflet.awesome.rotate.css%22/%3E%0A%20%20%20%20%3Cstyle%3Ehtml%2C%20body%20%7Bwidth%3A%20100%25%3Bheight%3A%20100%25%3Bmargin%3A%200%3Bpadding%3A%200%3B%7D%3C/style%3E%0A%20%20%20%20%3Cstyle%3E%23map%20%7Bposition%3Aabsolute%3Btop%3A0%3Bbottom%3A0%3Bright%3A0%3Bleft%3A0%3B%7D%3C/style%3E%0A%20%20%20%20%0A%20%20%20%20%3Cmeta%20name%3D%22viewport%22%20content%3D%22width%3Ddevice-width%2C%0A%20%20%20%20%20%20%20%20initial-scale%3D1.0%2C%20maximum-scale%3D1.0%2C%20user-scalable%3Dno%22%20/%3E%0A%20%20%20%20%3Cstyle%3E%23map_00e54aad40c24dad944e9353abe52f84%20%7B%0A%20%20%20%20%20%20%20%20position%3A%20relative%3B%0A%20%20%20%20%20%20%20%20width%3A%20100.0%25%3B%0A%20%20%20%20%20%20%20%20height%3A%20100.0%25%3B%0A%20%20%20%20%20%20%20%20left%3A%200.0%25%3B%0A%20%20%20%20%20%20%20%20top%3A%200.0%25%3B%0A%20%20%20%20%20%20%20%20%7D%0A%20%20%20%20%3C/style%3E%0A%3C/head%3E%0A%3Cbody%3E%20%20%20%20%0A%20%20%20%20%0A%20%20%20%20%3Cdiv%20class%3D%22folium-map%22%20id%3D%22map_00e54aad40c24dad944e9353abe52f84%22%20%3E%3C/div%3E%0A%3C/body%3E%0A%3Cscript%3E%20%20%20%20%0A%20%20%20%20%0A%20%20%20%20%0A%20%20%20%20%20%20%20%20var%20bounds%20%3D%20null%3B%0A%20%20%20%20%0A%0A%20%20%20%20var%20map_00e54aad40c24dad944e9353abe52f84%20%3D%20L.map%28%0A%20%20%20%20%20%20%20%20%27map_00e54aad40c24dad944e9353abe52f84%27%2C%20%7B%0A%20%20%20%20%20%20%20%20center%3A%20%5B0.15000014070696993%2C%20103.1395000000007%5D%2C%0A%20%20%20%20%20%20%20%20zoom%3A%2010%2C%0A%20%20%20%20%20%20%20%20maxBounds%3A%20bounds%2C%0A%20%20%20%20%20%20%20%20layers%3A%20%5B%5D%2C%0A%20%20%20%20%20%20%20%20worldCopyJump%3A%20false%2C%0A%20%20%20%20%20%20%20%20crs%3A%20L.CRS.EPSG3857%2C%0A%20%20%20%20%20%20%20%20zoomControl%3A%20true%2C%0A%20%20%20%20%20%20%20%20%7D%29%3B%0A%0A%0A%20%20%20%20%0A%20%20%20%20var%20tile_layer_f8f7059c13bd41579f363b01ef44f4ec%20%3D%20L.tileLayer%28%0A%20%20%20%20%20%20%20%20%27https%3A//%7Bs%7D.tile.openstreetmap.org/%7Bz%7D/%7Bx%7D/%7By%7D.png%27%2C%0A%20%20%20%20%20%20%20%20%7B%0A%20%20%20%20%20%20%20%20%22attribution%22%3A%20null%2C%0A%20%20%20%20%20%20%20%20%22detectRetina%22%3A%20false%2C%0A%20%20%20%20%20%20%20%20%22maxNativeZoom%22%3A%2018%2C%0A%20%20%20%20%20%20%20%20%22maxZoom%22%3A%2018%2C%0A%20%20%20%20%20%20%20%20%22minZoom%22%3A%200%2C%0A%20%20%20%20%20%20%20%20%22noWrap%22%3A%20false%2C%0A%20%20%20%20%20%20%20%20%22opacity%22%3A%201%2C%0A%20%20%20%20%20%20%20%20%22subdomains%22%3A%20%22abc%22%2C%0A%20%20%20%20%20%20%20%20%22tms%22%3A%20false%0A%7D%29.addTo%28map_00e54aad40c24dad944e9353abe52f84%29%3B%0A%20%20%20%20var%20tile_layer_895f3724c87644d59d09cf1d78a5d967%20%3D%20L.tileLayer%28%0A%20%20%20%20%20%20%20%20%27https%3A//earthengine.googleapis.com/v1alpha/projects/earthengine-legacy/maps/19956cba310fbb2019190c2aeca34f85-efa1f3d5c158e33b5e79ebe60affa7d3/tiles/%7Bz%7D/%7Bx%7D/%7By%7D%27%2C%0A%20%20%20%20%20%20%20%20%7B%0A%20%20%20%20%20%20%20%20%22attribution%22%3A%20%22Map%20Data%20%26copy%3B%20%3Ca%20href%3D%5C%22https%3A//earthengine.google.com/%5C%22%3EGoogle%20Earth%20Engine%3C/a%3E%22%2C%0A%20%20%20%20%20%20%20%20%22detectRetina%22%3A%20false%2C%0A%20%20%20%20%20%20%20%20%22maxNativeZoom%22%3A%2018%2C%0A%20%20%20%20%20%20%20%20%22maxZoom%22%3A%2018%2C%0A%20%20%20%20%20%20%20%20%22minZoom%22%3A%200%2C%0A%20%20%20%20%20%20%20%20%22noWrap%22%3A%20false%2C%0A%20%20%20%20%20%20%20%20%22opacity%22%3A%201%2C%0A%20%20%20%20%20%20%20%20%22subdomains%22%3A%20%22abc%22%2C%0A%20%20%20%20%20%20%20%20%22tms%22%3A%20false%0A%7D%29.addTo%28map_00e54aad40c24dad944e9353abe52f84%29%3B%0A%20%20%20%20var%20tile_layer_0d58c9dd7fed4c24bb870fa0bdd80eb6%20%3D%20L.tileLayer%28%0A%20%20%20%20%20%20%20%20%27https%3A//earthengine.googleapis.com/v1alpha/projects/earthengine-legacy/maps/82d55ca9b19cf7d44f0c96747984cd29-f59365340162ab7761ba281b89bf4a35/tiles/%7Bz%7D/%7Bx%7D/%7By%7D%27%2C%0A%20%20%20%20%20%20%20%20%7B%0A%20%20%20%20%20%20%20%20%22attribution%22%3A%20%22Map%20Data%20%26copy%3B%20%3Ca%20href%3D%5C%22https%3A//earthengine.google.com/%5C%22%3EGoogle%20Earth%20Engine%3C/a%3E%22%2C%0A%20%20%20%20%20%20%20%20%22detectRetina%22%3A%20false%2C%0A%20%20%20%20%20%20%20%20%22maxNativeZoom%22%3A%2018%2C%0A%20%20%20%20%20%20%20%20%22maxZoom%22%3A%2018%2C%0A%20%20%20%20%20%20%20%20%22minZoom%22%3A%200%2C%0A%20%20%20%20%20%20%20%20%22noWrap%22%3A%20false%2C%0A%20%20%20%20%20%20%20%20%22opacity%22%3A%201%2C%0A%20%20%20%20%20%20%20%20%22subdomains%22%3A%20%22abc%22%2C%0A%20%20%20%20%20%20%20%20%22tms%22%3A%20false%0A%7D%29.addTo%28map_00e54aad40c24dad944e9353abe52f84%29%3B%0A%20%20%20%20var%20tile_layer_c8d37f8d063843258544b30f92e8c1b1%20%3D%20L.tileLayer%28%0A%20%20%20%20%20%20%20%20%27https%3A//earthengine.googleapis.com/v1alpha/projects/earthengine-legacy/maps/a8eba6cfea4d53ac008535febb406335-e93462ad73646d51a7797f9199e7efee/tiles/%7Bz%7D/%7Bx%7D/%7By%7D%27%2C%0A%20%20%20%20%20%20%20%20%7B%0A%20%20%20%20%20%20%20%20%22attribution%22%3A%20%22Map%20Data%20%26copy%3B%20%3Ca%20href%3D%5C%22https%3A//earthengine.google.com/%5C%22%3EGoogle%20Earth%20Engine%3C/a%3E%22%2C%0A%20%20%20%20%20%20%20%20%22detectRetina%22%3A%20false%2C%0A%20%20%20%20%20%20%20%20%22maxNativeZoom%22%3A%2018%2C%0A%20%20%20%20%20%20%20%20%22maxZoom%22%3A%2018%2C%0A%20%20%20%20%20%20%20%20%22minZoom%22%3A%200%2C%0A%20%20%20%20%20%20%20%20%22noWrap%22%3A%20false%2C%0A%20%20%20%20%20%20%20%20%22opacity%22%3A%201%2C%0A%20%20%20%20%20%20%20%20%22subdomains%22%3A%20%22abc%22%2C%0A%20%20%20%20%20%20%20%20%22tms%22%3A%20false%0A%7D%29.addTo%28map_00e54aad40c24dad944e9353abe52f84%29%3B%0A%20%20%20%20%0A%20%20%20%20%20%20%20%20%20%20%20%20var%20layer_control_2adcc749eab1464481fd103816ae4b16%20%3D%20%7B%0A%20%20%20%20%20%20%20%20%20%20%20%20%20%20%20%20base_layers%20%3A%20%7B%20%22openstreetmap%22%20%3A%20tile_layer_f8f7059c13bd41579f363b01ef44f4ec%2C%20%7D%2C%0A%20%20%20%20%20%20%20%20%20%20%20%20%20%20%20%20overlays%20%3A%20%7B%20%22EVI_MODIS_Mean%22%20%3A%20tile_layer_895f3724c87644d59d09cf1d78a5d967%2C%22L8_Mean%22%20%3A%20tile_layer_0d58c9dd7fed4c24bb870fa0bdd80eb6%2C%22Detected%22%20%3A%20tile_layer_c8d37f8d063843258544b30f92e8c1b1%2C%20%7D%0A%20%20%20%20%20%20%20%20%20%20%20%20%20%20%20%20%7D%3B%0A%20%20%20%20%20%20%20%20%20%20%20%20L.control.layers%28%0A%20%20%20%20%20%20%20%20%20%20%20%20%20%20%20%20layer_control_2adcc749eab1464481fd103816ae4b16.base_layers%2C%0A%20%20%20%20%20%20%20%20%20%20%20%20%20%20%20%20layer_control_2adcc749eab1464481fd103816ae4b16.overlays%2C%0A%20%20%20%20%20%20%20%20%20%20%20%20%20%20%20%20%7Bposition%3A%20%27topright%27%2C%0A%20%20%20%20%20%20%20%20%20%20%20%20%20%20%20%20%20collapsed%3A%20true%2C%0A%20%20%20%20%20%20%20%20%20%20%20%20%20%20%20%20%20autoZIndex%3A%20true%0A%20%20%20%20%20%20%20%20%20%20%20%20%20%20%20%20%7D%29.addTo%28map_00e54aad40c24dad944e9353abe52f84%29%3B%0A%20%20%20%20%20%20%20%20%20%20%20%20%0A%20%20%20%20%20%20%20%20%0A%3C/script%3E onload=\"this.contentDocument.open();this.contentDocument.write(    decodeURIComponent(this.getAttribute('data-html')));this.contentDocument.close();\" allowfullscreen webkitallowfullscreen mozallowfullscreen></iframe></div></div>"
            ],
            "text/plain": [
              "<folium.folium.Map at 0x7f9963448790>"
            ]
          },
          "metadata": {
            "tags": []
          }
        }
      ]
    }
  ]
}